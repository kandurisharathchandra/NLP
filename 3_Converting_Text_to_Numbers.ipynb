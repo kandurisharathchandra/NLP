{
  "nbformat": 4,
  "nbformat_minor": 0,
  "metadata": {
    "colab": {
      "provenance": []
    },
    "kernelspec": {
      "name": "python3",
      "display_name": "Python 3"
    },
    "language_info": {
      "name": "python"
    }
  },
  "cells": [
    {
      "cell_type": "code",
      "source": [
        "# The following code is written to display the overflowing output in wrapped\n",
        "# out manner. All long-line outputs will be wrapped to the next line and we\n",
        "# won't need to scroll left-right to see the output.\n",
        "\n",
        "from IPython.display import HTML, display\n",
        "\n",
        "def set_css():\n",
        "  display(HTML('''\n",
        "  <style>\n",
        "    pre {\n",
        "        white-space: pre-wrap;\n",
        "    }\n",
        "  </style>\n",
        "  '''))\n",
        "get_ipython().events.register('pre_run_cell', set_css)"
      ],
      "metadata": {
        "id": "wDfAMa0e3GAW"
      },
      "execution_count": null,
      "outputs": []
    },
    {
      "cell_type": "markdown",
      "source": [
        "# **Converting Text to Numbers with scikit-learn**\n",
        "\n",
        "Text data requires special preparation before you can start using it for predictive modeling.\n",
        "\n",
        "* The text must be parsed to get words, called **tokenization**.\n",
        "\n",
        "* Then the words need to be encoded as integers or floating point values for use as input to a machine learning algorithm, called **feature extraction (or vectorization)**.\n",
        "\n"
      ],
      "metadata": {
        "id": "cANVq4z-lINB"
      }
    },
    {
      "cell_type": "markdown",
      "source": [
        "\n",
        "\n",
        "* We cannot work with text directly when using machine learning algorithms.\n",
        "\n",
        "* Algorithms take vectors of numbers as input, therefore we need to convert documents to fixed-length vectors of numbers.\n",
        "\n",
        "* A simple and effective model for thinking about text documents in machine learning is called the **Bag-of-Words Model**, or BoW."
      ],
      "metadata": {
        "id": "K2iwgCwIn55e"
      }
    },
    {
      "cell_type": "markdown",
      "source": [
        "The `scikit-learn` library offers easy-to-use tools to perform both tokenization and feature extraction of your text data.\n",
        "\n",
        "In this tutorial, we will discover:\n",
        "* How to convert text to word count vectors with **CountVectorizer**.\n",
        "\n",
        "* How to convert text to word frequency vectors with **TfidfVectorizer**.\n",
        "* How to convert text to unique integers with **HashingVectorizer**."
      ],
      "metadata": {
        "id": "Xg9XPdI9lfpm"
      }
    },
    {
      "cell_type": "markdown",
      "metadata": {
        "id": "Km821E0pC59w"
      },
      "source": [
        "## **One-hot vectors**\n",
        "\n",
        "**A vocabulary lists all the unique tokens (words) that are present in the text.**\n",
        "\n",
        "We can create a numerical vector representation for **each word**.\n",
        "\n",
        "These vectors are called **one-hot vectors**.\n",
        "\n",
        "A **sequence** of one-hot vectors fully captures the original document text in a sequence of vectors, a table of numbers.\n",
        "\n",
        "That will solve the first problem of NLP, _**turning words into numbers**_:"
      ]
    },
    {
      "cell_type": "code",
      "metadata": {
        "colab": {
          "base_uri": "https://localhost:8080/",
          "height": 35
        },
        "id": "L-QR7PWvDG3Q",
        "outputId": "78d372c0-db95-4826-e492-bfaee0416816"
      },
      "source": [
        "import numpy as np\n",
        "\n",
        "sentence = \"Thomas Jefferson began building Monticello at the age of 26.\"\n",
        "\n",
        "# str.split() is our quick-and-dirty tokenizer\n",
        "token_sequence = str.split(sentence)\n",
        "\n",
        "# Sorted lexicographically (lexically) so numbers come before letters, and capital letters come before lowercase letters.\n",
        "vocab = sorted(set(token_sequence))\n",
        "\n",
        "', '.join(vocab)"
      ],
      "execution_count": null,
      "outputs": [
        {
          "output_type": "execute_result",
          "data": {
            "text/plain": [
              "'26., Jefferson, Monticello, Thomas, age, at, began, building, of, the'"
            ],
            "application/vnd.google.colaboratory.intrinsic+json": {
              "type": "string"
            }
          },
          "metadata": {},
          "execution_count": 1
        }
      ]
    },
    {
      "cell_type": "code",
      "metadata": {
        "colab": {
          "base_uri": "https://localhost:8080/",
          "height": 35
        },
        "id": "zIB4odJIDxUS",
        "outputId": "c0358313-9ace-4c6a-b2ce-235681d1ee1a"
      },
      "source": [
        "num_tokens = len(token_sequence)\n",
        "vocab_size = len(vocab)\n",
        "\n",
        "# The empty table is as wide as our count of unique vocabulary terms and as high as the length of our document, 10 rows by 10 columns.\n",
        "onehot_vectors = np.zeros((num_tokens, vocab_size), int)\n",
        "\n",
        "# For each word in the sentence, mark the column for that word in our vocabulary with a 1.\n",
        "for i, word in enumerate(token_sequence):\n",
        "  onehot_vectors[i, vocab.index(word)] = 1\n",
        "\n",
        "' '.join(vocab)"
      ],
      "execution_count": null,
      "outputs": [
        {
          "output_type": "execute_result",
          "data": {
            "text/plain": [
              "'26. Jefferson Monticello Thomas age at began building of the'"
            ],
            "application/vnd.google.colaboratory.intrinsic+json": {
              "type": "string"
            }
          },
          "metadata": {},
          "execution_count": 4
        }
      ]
    },
    {
      "cell_type": "code",
      "metadata": {
        "colab": {
          "base_uri": "https://localhost:8080/"
        },
        "id": "CJ6qTKJcEPae",
        "outputId": "73e25f60-ebdb-4608-add0-e492292a31d2"
      },
      "source": [
        "onehot_vectors"
      ],
      "execution_count": null,
      "outputs": [
        {
          "output_type": "execute_result",
          "data": {
            "text/plain": [
              "array([[0, 0, 0, 1, 0, 0, 0, 0, 0, 0],\n",
              "       [0, 1, 0, 0, 0, 0, 0, 0, 0, 0],\n",
              "       [0, 0, 0, 0, 0, 0, 1, 0, 0, 0],\n",
              "       [0, 0, 0, 0, 0, 0, 0, 1, 0, 0],\n",
              "       [0, 0, 1, 0, 0, 0, 0, 0, 0, 0],\n",
              "       [0, 0, 0, 0, 0, 1, 0, 0, 0, 0],\n",
              "       [0, 0, 0, 0, 0, 0, 0, 0, 0, 1],\n",
              "       [0, 0, 0, 0, 1, 0, 0, 0, 0, 0],\n",
              "       [0, 0, 0, 0, 0, 0, 0, 0, 1, 0],\n",
              "       [1, 0, 0, 0, 0, 0, 0, 0, 0, 0]])"
            ]
          },
          "metadata": {},
          "execution_count": 5
        }
      ]
    },
    {
      "cell_type": "markdown",
      "source": [
        "[0, 0, 0, 1, 0, 0, 0, 0, 0, 0], [0, 1, 0, 0, 0, 0, 0, 0, 0, 0], [0, 0, 0, 0, 0, 0, 1, 0, 0, 0], [0, 0, 0, 0, 0, 0, 0, 1, 0, 0], [0, 0, 1, 0, 0, 0, 0, 0, 0, 0], [0, 0, 0, 0, 0, 1, 0, 0, 0, 0], [0, 0, 0, 0, 0, 0, 0, 0, 0, 1], [0, 0, 0, 0, 1, 0, 0, 0, 0, 0], [0, 0, 0, 0, 0, 0, 0, 0, 1, 0], [1, 0, 0, 0, 0, 0, 0, 0, 0, 0]]"
      ],
      "metadata": {
        "id": "FAoDvmN6gZXL"
      }
    },
    {
      "cell_type": "markdown",
      "metadata": {
        "id": "dGAYXoPCESOm"
      },
      "source": [
        "A DataFrame keeps track of labels for each column, allowing us to label each column in our table with the token or word it represents."
      ]
    },
    {
      "cell_type": "code",
      "metadata": {
        "colab": {
          "base_uri": "https://localhost:8080/",
          "height": 363
        },
        "id": "5xVNGeE4FmZT",
        "outputId": "93245e32-5ebc-46bd-91e8-938ad0ec1ef0"
      },
      "source": [
        "import pandas as pd\n",
        "pd.DataFrame(onehot_vectors, columns=vocab)"
      ],
      "execution_count": null,
      "outputs": [
        {
          "output_type": "execute_result",
          "data": {
            "text/plain": [
              "   26.  Jefferson  Monticello  Thomas  age  at  began  building  of  the\n",
              "0    0          0           0       1    0   0      0         0   0    0\n",
              "1    0          1           0       0    0   0      0         0   0    0\n",
              "2    0          0           0       0    0   0      1         0   0    0\n",
              "3    0          0           0       0    0   0      0         1   0    0\n",
              "4    0          0           1       0    0   0      0         0   0    0\n",
              "5    0          0           0       0    0   1      0         0   0    0\n",
              "6    0          0           0       0    0   0      0         0   0    1\n",
              "7    0          0           0       0    1   0      0         0   0    0\n",
              "8    0          0           0       0    0   0      0         0   1    0\n",
              "9    1          0           0       0    0   0      0         0   0    0"
            ],
            "text/html": [
              "\n",
              "  <div id=\"df-e3446ab8-6272-4fbc-af46-3a71f9d3bc01\" class=\"colab-df-container\">\n",
              "    <div>\n",
              "<style scoped>\n",
              "    .dataframe tbody tr th:only-of-type {\n",
              "        vertical-align: middle;\n",
              "    }\n",
              "\n",
              "    .dataframe tbody tr th {\n",
              "        vertical-align: top;\n",
              "    }\n",
              "\n",
              "    .dataframe thead th {\n",
              "        text-align: right;\n",
              "    }\n",
              "</style>\n",
              "<table border=\"1\" class=\"dataframe\">\n",
              "  <thead>\n",
              "    <tr style=\"text-align: right;\">\n",
              "      <th></th>\n",
              "      <th>26.</th>\n",
              "      <th>Jefferson</th>\n",
              "      <th>Monticello</th>\n",
              "      <th>Thomas</th>\n",
              "      <th>age</th>\n",
              "      <th>at</th>\n",
              "      <th>began</th>\n",
              "      <th>building</th>\n",
              "      <th>of</th>\n",
              "      <th>the</th>\n",
              "    </tr>\n",
              "  </thead>\n",
              "  <tbody>\n",
              "    <tr>\n",
              "      <th>0</th>\n",
              "      <td>0</td>\n",
              "      <td>0</td>\n",
              "      <td>0</td>\n",
              "      <td>1</td>\n",
              "      <td>0</td>\n",
              "      <td>0</td>\n",
              "      <td>0</td>\n",
              "      <td>0</td>\n",
              "      <td>0</td>\n",
              "      <td>0</td>\n",
              "    </tr>\n",
              "    <tr>\n",
              "      <th>1</th>\n",
              "      <td>0</td>\n",
              "      <td>1</td>\n",
              "      <td>0</td>\n",
              "      <td>0</td>\n",
              "      <td>0</td>\n",
              "      <td>0</td>\n",
              "      <td>0</td>\n",
              "      <td>0</td>\n",
              "      <td>0</td>\n",
              "      <td>0</td>\n",
              "    </tr>\n",
              "    <tr>\n",
              "      <th>2</th>\n",
              "      <td>0</td>\n",
              "      <td>0</td>\n",
              "      <td>0</td>\n",
              "      <td>0</td>\n",
              "      <td>0</td>\n",
              "      <td>0</td>\n",
              "      <td>1</td>\n",
              "      <td>0</td>\n",
              "      <td>0</td>\n",
              "      <td>0</td>\n",
              "    </tr>\n",
              "    <tr>\n",
              "      <th>3</th>\n",
              "      <td>0</td>\n",
              "      <td>0</td>\n",
              "      <td>0</td>\n",
              "      <td>0</td>\n",
              "      <td>0</td>\n",
              "      <td>0</td>\n",
              "      <td>0</td>\n",
              "      <td>1</td>\n",
              "      <td>0</td>\n",
              "      <td>0</td>\n",
              "    </tr>\n",
              "    <tr>\n",
              "      <th>4</th>\n",
              "      <td>0</td>\n",
              "      <td>0</td>\n",
              "      <td>1</td>\n",
              "      <td>0</td>\n",
              "      <td>0</td>\n",
              "      <td>0</td>\n",
              "      <td>0</td>\n",
              "      <td>0</td>\n",
              "      <td>0</td>\n",
              "      <td>0</td>\n",
              "    </tr>\n",
              "    <tr>\n",
              "      <th>5</th>\n",
              "      <td>0</td>\n",
              "      <td>0</td>\n",
              "      <td>0</td>\n",
              "      <td>0</td>\n",
              "      <td>0</td>\n",
              "      <td>1</td>\n",
              "      <td>0</td>\n",
              "      <td>0</td>\n",
              "      <td>0</td>\n",
              "      <td>0</td>\n",
              "    </tr>\n",
              "    <tr>\n",
              "      <th>6</th>\n",
              "      <td>0</td>\n",
              "      <td>0</td>\n",
              "      <td>0</td>\n",
              "      <td>0</td>\n",
              "      <td>0</td>\n",
              "      <td>0</td>\n",
              "      <td>0</td>\n",
              "      <td>0</td>\n",
              "      <td>0</td>\n",
              "      <td>1</td>\n",
              "    </tr>\n",
              "    <tr>\n",
              "      <th>7</th>\n",
              "      <td>0</td>\n",
              "      <td>0</td>\n",
              "      <td>0</td>\n",
              "      <td>0</td>\n",
              "      <td>1</td>\n",
              "      <td>0</td>\n",
              "      <td>0</td>\n",
              "      <td>0</td>\n",
              "      <td>0</td>\n",
              "      <td>0</td>\n",
              "    </tr>\n",
              "    <tr>\n",
              "      <th>8</th>\n",
              "      <td>0</td>\n",
              "      <td>0</td>\n",
              "      <td>0</td>\n",
              "      <td>0</td>\n",
              "      <td>0</td>\n",
              "      <td>0</td>\n",
              "      <td>0</td>\n",
              "      <td>0</td>\n",
              "      <td>1</td>\n",
              "      <td>0</td>\n",
              "    </tr>\n",
              "    <tr>\n",
              "      <th>9</th>\n",
              "      <td>1</td>\n",
              "      <td>0</td>\n",
              "      <td>0</td>\n",
              "      <td>0</td>\n",
              "      <td>0</td>\n",
              "      <td>0</td>\n",
              "      <td>0</td>\n",
              "      <td>0</td>\n",
              "      <td>0</td>\n",
              "      <td>0</td>\n",
              "    </tr>\n",
              "  </tbody>\n",
              "</table>\n",
              "</div>\n",
              "    <div class=\"colab-df-buttons\">\n",
              "\n",
              "  <div class=\"colab-df-container\">\n",
              "    <button class=\"colab-df-convert\" onclick=\"convertToInteractive('df-e3446ab8-6272-4fbc-af46-3a71f9d3bc01')\"\n",
              "            title=\"Convert this dataframe to an interactive table.\"\n",
              "            style=\"display:none;\">\n",
              "\n",
              "  <svg xmlns=\"http://www.w3.org/2000/svg\" height=\"24px\" viewBox=\"0 -960 960 960\">\n",
              "    <path d=\"M120-120v-720h720v720H120Zm60-500h600v-160H180v160Zm220 220h160v-160H400v160Zm0 220h160v-160H400v160ZM180-400h160v-160H180v160Zm440 0h160v-160H620v160ZM180-180h160v-160H180v160Zm440 0h160v-160H620v160Z\"/>\n",
              "  </svg>\n",
              "    </button>\n",
              "\n",
              "  <style>\n",
              "    .colab-df-container {\n",
              "      display:flex;\n",
              "      gap: 12px;\n",
              "    }\n",
              "\n",
              "    .colab-df-convert {\n",
              "      background-color: #E8F0FE;\n",
              "      border: none;\n",
              "      border-radius: 50%;\n",
              "      cursor: pointer;\n",
              "      display: none;\n",
              "      fill: #1967D2;\n",
              "      height: 32px;\n",
              "      padding: 0 0 0 0;\n",
              "      width: 32px;\n",
              "    }\n",
              "\n",
              "    .colab-df-convert:hover {\n",
              "      background-color: #E2EBFA;\n",
              "      box-shadow: 0px 1px 2px rgba(60, 64, 67, 0.3), 0px 1px 3px 1px rgba(60, 64, 67, 0.15);\n",
              "      fill: #174EA6;\n",
              "    }\n",
              "\n",
              "    .colab-df-buttons div {\n",
              "      margin-bottom: 4px;\n",
              "    }\n",
              "\n",
              "    [theme=dark] .colab-df-convert {\n",
              "      background-color: #3B4455;\n",
              "      fill: #D2E3FC;\n",
              "    }\n",
              "\n",
              "    [theme=dark] .colab-df-convert:hover {\n",
              "      background-color: #434B5C;\n",
              "      box-shadow: 0px 1px 3px 1px rgba(0, 0, 0, 0.15);\n",
              "      filter: drop-shadow(0px 1px 2px rgba(0, 0, 0, 0.3));\n",
              "      fill: #FFFFFF;\n",
              "    }\n",
              "  </style>\n",
              "\n",
              "    <script>\n",
              "      const buttonEl =\n",
              "        document.querySelector('#df-e3446ab8-6272-4fbc-af46-3a71f9d3bc01 button.colab-df-convert');\n",
              "      buttonEl.style.display =\n",
              "        google.colab.kernel.accessAllowed ? 'block' : 'none';\n",
              "\n",
              "      async function convertToInteractive(key) {\n",
              "        const element = document.querySelector('#df-e3446ab8-6272-4fbc-af46-3a71f9d3bc01');\n",
              "        const dataTable =\n",
              "          await google.colab.kernel.invokeFunction('convertToInteractive',\n",
              "                                                    [key], {});\n",
              "        if (!dataTable) return;\n",
              "\n",
              "        const docLinkHtml = 'Like what you see? Visit the ' +\n",
              "          '<a target=\"_blank\" href=https://colab.research.google.com/notebooks/data_table.ipynb>data table notebook</a>'\n",
              "          + ' to learn more about interactive tables.';\n",
              "        element.innerHTML = '';\n",
              "        dataTable['output_type'] = 'display_data';\n",
              "        await google.colab.output.renderOutput(dataTable, element);\n",
              "        const docLink = document.createElement('div');\n",
              "        docLink.innerHTML = docLinkHtml;\n",
              "        element.appendChild(docLink);\n",
              "      }\n",
              "    </script>\n",
              "  </div>\n",
              "\n",
              "\n",
              "<div id=\"df-5ccc0609-d52a-4643-beb4-ec8ec88e3119\">\n",
              "  <button class=\"colab-df-quickchart\" onclick=\"quickchart('df-5ccc0609-d52a-4643-beb4-ec8ec88e3119')\"\n",
              "            title=\"Suggest charts.\"\n",
              "            style=\"display:none;\">\n",
              "\n",
              "<svg xmlns=\"http://www.w3.org/2000/svg\" height=\"24px\"viewBox=\"0 0 24 24\"\n",
              "     width=\"24px\">\n",
              "    <g>\n",
              "        <path d=\"M19 3H5c-1.1 0-2 .9-2 2v14c0 1.1.9 2 2 2h14c1.1 0 2-.9 2-2V5c0-1.1-.9-2-2-2zM9 17H7v-7h2v7zm4 0h-2V7h2v10zm4 0h-2v-4h2v4z\"/>\n",
              "    </g>\n",
              "</svg>\n",
              "  </button>\n",
              "\n",
              "<style>\n",
              "  .colab-df-quickchart {\n",
              "      --bg-color: #E8F0FE;\n",
              "      --fill-color: #1967D2;\n",
              "      --hover-bg-color: #E2EBFA;\n",
              "      --hover-fill-color: #174EA6;\n",
              "      --disabled-fill-color: #AAA;\n",
              "      --disabled-bg-color: #DDD;\n",
              "  }\n",
              "\n",
              "  [theme=dark] .colab-df-quickchart {\n",
              "      --bg-color: #3B4455;\n",
              "      --fill-color: #D2E3FC;\n",
              "      --hover-bg-color: #434B5C;\n",
              "      --hover-fill-color: #FFFFFF;\n",
              "      --disabled-bg-color: #3B4455;\n",
              "      --disabled-fill-color: #666;\n",
              "  }\n",
              "\n",
              "  .colab-df-quickchart {\n",
              "    background-color: var(--bg-color);\n",
              "    border: none;\n",
              "    border-radius: 50%;\n",
              "    cursor: pointer;\n",
              "    display: none;\n",
              "    fill: var(--fill-color);\n",
              "    height: 32px;\n",
              "    padding: 0;\n",
              "    width: 32px;\n",
              "  }\n",
              "\n",
              "  .colab-df-quickchart:hover {\n",
              "    background-color: var(--hover-bg-color);\n",
              "    box-shadow: 0 1px 2px rgba(60, 64, 67, 0.3), 0 1px 3px 1px rgba(60, 64, 67, 0.15);\n",
              "    fill: var(--button-hover-fill-color);\n",
              "  }\n",
              "\n",
              "  .colab-df-quickchart-complete:disabled,\n",
              "  .colab-df-quickchart-complete:disabled:hover {\n",
              "    background-color: var(--disabled-bg-color);\n",
              "    fill: var(--disabled-fill-color);\n",
              "    box-shadow: none;\n",
              "  }\n",
              "\n",
              "  .colab-df-spinner {\n",
              "    border: 2px solid var(--fill-color);\n",
              "    border-color: transparent;\n",
              "    border-bottom-color: var(--fill-color);\n",
              "    animation:\n",
              "      spin 1s steps(1) infinite;\n",
              "  }\n",
              "\n",
              "  @keyframes spin {\n",
              "    0% {\n",
              "      border-color: transparent;\n",
              "      border-bottom-color: var(--fill-color);\n",
              "      border-left-color: var(--fill-color);\n",
              "    }\n",
              "    20% {\n",
              "      border-color: transparent;\n",
              "      border-left-color: var(--fill-color);\n",
              "      border-top-color: var(--fill-color);\n",
              "    }\n",
              "    30% {\n",
              "      border-color: transparent;\n",
              "      border-left-color: var(--fill-color);\n",
              "      border-top-color: var(--fill-color);\n",
              "      border-right-color: var(--fill-color);\n",
              "    }\n",
              "    40% {\n",
              "      border-color: transparent;\n",
              "      border-right-color: var(--fill-color);\n",
              "      border-top-color: var(--fill-color);\n",
              "    }\n",
              "    60% {\n",
              "      border-color: transparent;\n",
              "      border-right-color: var(--fill-color);\n",
              "    }\n",
              "    80% {\n",
              "      border-color: transparent;\n",
              "      border-right-color: var(--fill-color);\n",
              "      border-bottom-color: var(--fill-color);\n",
              "    }\n",
              "    90% {\n",
              "      border-color: transparent;\n",
              "      border-bottom-color: var(--fill-color);\n",
              "    }\n",
              "  }\n",
              "</style>\n",
              "\n",
              "  <script>\n",
              "    async function quickchart(key) {\n",
              "      const quickchartButtonEl =\n",
              "        document.querySelector('#' + key + ' button');\n",
              "      quickchartButtonEl.disabled = true;  // To prevent multiple clicks.\n",
              "      quickchartButtonEl.classList.add('colab-df-spinner');\n",
              "      try {\n",
              "        const charts = await google.colab.kernel.invokeFunction(\n",
              "            'suggestCharts', [key], {});\n",
              "      } catch (error) {\n",
              "        console.error('Error during call to suggestCharts:', error);\n",
              "      }\n",
              "      quickchartButtonEl.classList.remove('colab-df-spinner');\n",
              "      quickchartButtonEl.classList.add('colab-df-quickchart-complete');\n",
              "    }\n",
              "    (() => {\n",
              "      let quickchartButtonEl =\n",
              "        document.querySelector('#df-5ccc0609-d52a-4643-beb4-ec8ec88e3119 button');\n",
              "      quickchartButtonEl.style.display =\n",
              "        google.colab.kernel.accessAllowed ? 'block' : 'none';\n",
              "    })();\n",
              "  </script>\n",
              "</div>\n",
              "    </div>\n",
              "  </div>\n"
            ]
          },
          "metadata": {},
          "execution_count": 6
        }
      ]
    },
    {
      "cell_type": "markdown",
      "metadata": {
        "id": "Pet5sMY5Fnvz"
      },
      "source": [
        "One nice feature of this vector representation of words and tabular representation of documents is that no information is lost. As long as you keep track of which words are indicated by which column, you can reconstruct the original document from this table of one-hot vectors.\n",
        "\n",
        "They’re a good choice for any model or NLP pipeline that needs to retain all the\n",
        "meaning inherent in the original text."
      ]
    },
    {
      "cell_type": "markdown",
      "metadata": {
        "id": "tqQsX-24HBIs"
      },
      "source": [
        "In most cases, the vocabulary of tokens you’ll use in an NLP pipeline will be millions of tokens.\n",
        "\n",
        "Let’s assume you have a million tokens in our NLP pipeline vocabulary. And let’s say you have a meager 3,000 books with 3,500 sentences each and 15 words per sentence:"
      ]
    },
    {
      "cell_type": "code",
      "metadata": {
        "colab": {
          "base_uri": "https://localhost:8080/"
        },
        "id": "4j5l9kFAHW-B",
        "outputId": "30610fa4-f0b6-40a5-f925-f35a8a435039"
      },
      "source": [
        "# Number of rows in the table\n",
        "num_rows = 3000 * 3500 * 15\n",
        "num_rows"
      ],
      "execution_count": null,
      "outputs": [
        {
          "output_type": "execute_result",
          "data": {
            "text/plain": [
              "157500000"
            ]
          },
          "metadata": {},
          "execution_count": 7
        }
      ]
    },
    {
      "cell_type": "code",
      "metadata": {
        "colab": {
          "base_uri": "https://localhost:8080/"
        },
        "id": "qDLpaSPSHePv",
        "outputId": "a7dc21ea-01dc-4f9c-e452-a679f20ddbbc"
      },
      "source": [
        "# Number of bytes, if you use only one byte for each cell in our table\n",
        "num_bytes = num_rows * 1000000\n",
        "num_bytes"
      ],
      "execution_count": null,
      "outputs": [
        {
          "output_type": "execute_result",
          "data": {
            "text/plain": [
              "157500000000000"
            ]
          },
          "metadata": {},
          "execution_count": 8
        }
      ]
    },
    {
      "cell_type": "code",
      "metadata": {
        "colab": {
          "base_uri": "https://localhost:8080/"
        },
        "id": "b3UuWwvsHnxz",
        "outputId": "9ee847bc-5724-4d42-df80-3f1682295f4d"
      },
      "source": [
        "num_bytes/1e9 # Gigabytes"
      ],
      "execution_count": null,
      "outputs": [
        {
          "output_type": "execute_result",
          "data": {
            "text/plain": [
              "157500.0"
            ]
          },
          "metadata": {},
          "execution_count": 9
        }
      ]
    },
    {
      "cell_type": "code",
      "metadata": {
        "colab": {
          "base_uri": "https://localhost:8080/"
        },
        "id": "suRxb5VfH1R8",
        "outputId": "083456f1-6348-4514-8f3e-657b582f225f"
      },
      "source": [
        "# In a python interactive console, the variable name \"_\" is\n",
        "# automatically assigned the value of the previous output. This is handy\n",
        "# if you forget to explicitly assign the output of a function or expression\n",
        "# to a variable name like you did for num_bytes and num_rows.\n",
        "\n",
        "_ / 1000  # Terabytes\n"
      ],
      "execution_count": null,
      "outputs": [
        {
          "output_type": "execute_result",
          "data": {
            "text/plain": [
              "157.5"
            ]
          },
          "metadata": {},
          "execution_count": 10
        }
      ]
    },
    {
      "cell_type": "markdown",
      "metadata": {
        "id": "Jq-P3-HKH6Ey"
      },
      "source": [
        "## **Bag-of-words**\n",
        "\n",
        "Storing all those zeros, and trying to remember the order of the words in all our documents, doesn’t make much sense.\n",
        "\n",
        "What we want to do is compress the meaning of a document down to its essence.\n",
        "\n",
        "We’d like to compress the document down to a single vector rather than a big table.\n",
        "\n",
        "Let’s assume you can ignore the order and grammar of the words, and jumble them all up together into a “bag,” one bag for each sentence or short document.\n",
        "\n",
        "A **bag-of-words** vector is useful for summarizing the essence of a document. Even after we sorted all the words lexically, a human can still guess what the sentence was about and so can a machine. You can use this new bag-of-words vector approach to compress the information content for each document into a data structure that’s easier to work with.\n",
        "\n",
        "If we summed all the one-hot vectors together we’d get a **bag-of-words** vector.\n",
        "\n",
        "This is also called a **word frequency vector**, because it only counts the frequency of words, not their order.\n",
        "\n",
        "You could use this single vector to represent the whole document or sentence in a single, reasonable length vector. It would only be as long as our vocabulary size (the number of unique tokens you want to keep track of).\n"
      ]
    },
    {
      "cell_type": "markdown",
      "metadata": {
        "id": "z3UIqPVMJSVq"
      },
      "source": [
        "We can also put the tokens into a binary vector indicating the presence or absence of a particular word in a particular sentence.\n",
        "\n",
        "This vector representation of a set of sentences could be “indexed” to indicate which words were used in which document.\n",
        "\n",
        "This index is equivalent to the index you find at the end of many textbooks, except that instead of keeping track of which page a word occurs on, you can keep\n",
        "track of the sentence (or the associated vector) where it occurred."
      ]
    },
    {
      "cell_type": "code",
      "metadata": {
        "colab": {
          "base_uri": "https://localhost:8080/"
        },
        "id": "lviMxInQLrqO",
        "outputId": "260ce64a-1925-4e45-b894-a6a58c6a1835"
      },
      "source": [
        "sentence_bow = {}\n",
        "for token in sentence.split():\n",
        "  sentence_bow[token] = 1\n",
        "\n",
        "sorted(sentence_bow.items())"
      ],
      "execution_count": null,
      "outputs": [
        {
          "output_type": "execute_result",
          "data": {
            "text/plain": [
              "[('26.', 1),\n",
              " ('Jefferson', 1),\n",
              " ('Monticello', 1),\n",
              " ('Thomas', 1),\n",
              " ('age', 1),\n",
              " ('at', 1),\n",
              " ('began', 1),\n",
              " ('building', 1),\n",
              " ('of', 1),\n",
              " ('the', 1)]"
            ]
          },
          "metadata": {},
          "execution_count": 2
        }
      ]
    },
    {
      "cell_type": "markdown",
      "metadata": {
        "id": "Bl1r9o4qLvcI"
      },
      "source": [
        "As per the ordering of characters in the ASCII and Unicode character sets, Python’s sorted() puts decimal numbers before characters, and capitalized words before lowercase words.\n",
        "\n",
        "Using a dict (or any paired mapping of words to their 0/1 values) to store a binary vector shouldn’t waste much space.\n",
        "Using a dictionary to represent our vector ensures that it only has to store a 1 when any one of the possible words in our dictionary appear in a particular document.\n",
        "\n",
        "Because a dictionary “ignores” the absent words, the words labeled with a 0, the dictionary representation only requires a few bytes for each word in our 10-word sentence.\n",
        "And this dictionary could be made even more efficient if you represented each\n",
        "word as an integer pointer to each word’s location within our lexicon—the list of\n",
        "words that makes up our vocabulary for a particular application.\n",
        "\n",
        "Let’s use an even more efficient form of a dictionary, a Pandas Series.\n",
        "\n",
        "We’ll wrap that up in a Pandas DataFrame so we can add more sentences to our\n",
        "binary vector “corpus” of texts about Thomas Jefferson."
      ]
    },
    {
      "cell_type": "code",
      "metadata": {
        "colab": {
          "base_uri": "https://localhost:8080/",
          "height": 81
        },
        "id": "aH_pcie7NWY3",
        "outputId": "de572d16-b163-4897-b7a9-6d55a9b6cb07"
      },
      "source": [
        "import pandas as pd\n",
        "\n",
        "df = pd.DataFrame(pd.Series(dict([(token, 1) for token in sentence.split()])), columns=['sent']).T\n",
        "\n",
        "df"
      ],
      "execution_count": null,
      "outputs": [
        {
          "output_type": "execute_result",
          "data": {
            "text/plain": [
              "      Thomas  Jefferson  began  building  Monticello  at  the  age  of  26.\n",
              "sent       1          1      1         1           1   1    1    1   1    1"
            ],
            "text/html": [
              "\n",
              "  <div id=\"df-af03ade8-ee89-4dcd-aef6-219f14f3d0b1\" class=\"colab-df-container\">\n",
              "    <div>\n",
              "<style scoped>\n",
              "    .dataframe tbody tr th:only-of-type {\n",
              "        vertical-align: middle;\n",
              "    }\n",
              "\n",
              "    .dataframe tbody tr th {\n",
              "        vertical-align: top;\n",
              "    }\n",
              "\n",
              "    .dataframe thead th {\n",
              "        text-align: right;\n",
              "    }\n",
              "</style>\n",
              "<table border=\"1\" class=\"dataframe\">\n",
              "  <thead>\n",
              "    <tr style=\"text-align: right;\">\n",
              "      <th></th>\n",
              "      <th>Thomas</th>\n",
              "      <th>Jefferson</th>\n",
              "      <th>began</th>\n",
              "      <th>building</th>\n",
              "      <th>Monticello</th>\n",
              "      <th>at</th>\n",
              "      <th>the</th>\n",
              "      <th>age</th>\n",
              "      <th>of</th>\n",
              "      <th>26.</th>\n",
              "    </tr>\n",
              "  </thead>\n",
              "  <tbody>\n",
              "    <tr>\n",
              "      <th>sent</th>\n",
              "      <td>1</td>\n",
              "      <td>1</td>\n",
              "      <td>1</td>\n",
              "      <td>1</td>\n",
              "      <td>1</td>\n",
              "      <td>1</td>\n",
              "      <td>1</td>\n",
              "      <td>1</td>\n",
              "      <td>1</td>\n",
              "      <td>1</td>\n",
              "    </tr>\n",
              "  </tbody>\n",
              "</table>\n",
              "</div>\n",
              "    <div class=\"colab-df-buttons\">\n",
              "\n",
              "  <div class=\"colab-df-container\">\n",
              "    <button class=\"colab-df-convert\" onclick=\"convertToInteractive('df-af03ade8-ee89-4dcd-aef6-219f14f3d0b1')\"\n",
              "            title=\"Convert this dataframe to an interactive table.\"\n",
              "            style=\"display:none;\">\n",
              "\n",
              "  <svg xmlns=\"http://www.w3.org/2000/svg\" height=\"24px\" viewBox=\"0 -960 960 960\">\n",
              "    <path d=\"M120-120v-720h720v720H120Zm60-500h600v-160H180v160Zm220 220h160v-160H400v160Zm0 220h160v-160H400v160ZM180-400h160v-160H180v160Zm440 0h160v-160H620v160ZM180-180h160v-160H180v160Zm440 0h160v-160H620v160Z\"/>\n",
              "  </svg>\n",
              "    </button>\n",
              "\n",
              "  <style>\n",
              "    .colab-df-container {\n",
              "      display:flex;\n",
              "      gap: 12px;\n",
              "    }\n",
              "\n",
              "    .colab-df-convert {\n",
              "      background-color: #E8F0FE;\n",
              "      border: none;\n",
              "      border-radius: 50%;\n",
              "      cursor: pointer;\n",
              "      display: none;\n",
              "      fill: #1967D2;\n",
              "      height: 32px;\n",
              "      padding: 0 0 0 0;\n",
              "      width: 32px;\n",
              "    }\n",
              "\n",
              "    .colab-df-convert:hover {\n",
              "      background-color: #E2EBFA;\n",
              "      box-shadow: 0px 1px 2px rgba(60, 64, 67, 0.3), 0px 1px 3px 1px rgba(60, 64, 67, 0.15);\n",
              "      fill: #174EA6;\n",
              "    }\n",
              "\n",
              "    .colab-df-buttons div {\n",
              "      margin-bottom: 4px;\n",
              "    }\n",
              "\n",
              "    [theme=dark] .colab-df-convert {\n",
              "      background-color: #3B4455;\n",
              "      fill: #D2E3FC;\n",
              "    }\n",
              "\n",
              "    [theme=dark] .colab-df-convert:hover {\n",
              "      background-color: #434B5C;\n",
              "      box-shadow: 0px 1px 3px 1px rgba(0, 0, 0, 0.15);\n",
              "      filter: drop-shadow(0px 1px 2px rgba(0, 0, 0, 0.3));\n",
              "      fill: #FFFFFF;\n",
              "    }\n",
              "  </style>\n",
              "\n",
              "    <script>\n",
              "      const buttonEl =\n",
              "        document.querySelector('#df-af03ade8-ee89-4dcd-aef6-219f14f3d0b1 button.colab-df-convert');\n",
              "      buttonEl.style.display =\n",
              "        google.colab.kernel.accessAllowed ? 'block' : 'none';\n",
              "\n",
              "      async function convertToInteractive(key) {\n",
              "        const element = document.querySelector('#df-af03ade8-ee89-4dcd-aef6-219f14f3d0b1');\n",
              "        const dataTable =\n",
              "          await google.colab.kernel.invokeFunction('convertToInteractive',\n",
              "                                                    [key], {});\n",
              "        if (!dataTable) return;\n",
              "\n",
              "        const docLinkHtml = 'Like what you see? Visit the ' +\n",
              "          '<a target=\"_blank\" href=https://colab.research.google.com/notebooks/data_table.ipynb>data table notebook</a>'\n",
              "          + ' to learn more about interactive tables.';\n",
              "        element.innerHTML = '';\n",
              "        dataTable['output_type'] = 'display_data';\n",
              "        await google.colab.output.renderOutput(dataTable, element);\n",
              "        const docLink = document.createElement('div');\n",
              "        docLink.innerHTML = docLinkHtml;\n",
              "        element.appendChild(docLink);\n",
              "      }\n",
              "    </script>\n",
              "  </div>\n",
              "\n",
              "    </div>\n",
              "  </div>\n"
            ]
          },
          "metadata": {},
          "execution_count": 12
        }
      ]
    },
    {
      "cell_type": "markdown",
      "metadata": {
        "id": "EC-Zpj--Nd-u"
      },
      "source": [
        "Let’s add a few more texts to your corpus to see how a DataFrame stacks up."
      ]
    },
    {
      "cell_type": "code",
      "metadata": {
        "colab": {
          "base_uri": "https://localhost:8080/",
          "height": 175
        },
        "id": "l3nDKUfhNzDo",
        "outputId": "4d87be85-8478-44a6-85e6-b01e89a45296"
      },
      "source": [
        "sentences = \"\"\"Thomas Jefferson began building Monticello at the age of 26.\\n\"\"\"\n",
        "sentences += \"\"\"Construction was done mostly by local masons and carpenters.\\n\"\"\"\n",
        "sentences += \"He moved into the South Pavilion in 1770.\\n\"\n",
        "sentences += \"\"\"Turning Monticello into a neoclassical masterpiece was Jefferson's obsession.\"\"\"\n",
        "\n",
        "corpus = {}\n",
        "for i, sent in enumerate(sentences.split('\\n')):\n",
        "  corpus['sent{}'.format(i)] = dict((tok, 1) for tok in sent.split())\n",
        "\n",
        "df = pd.DataFrame.from_records(corpus).fillna(0).astype(int).T\n",
        "df[df.columns[:10]]"
      ],
      "execution_count": null,
      "outputs": [
        {
          "output_type": "execute_result",
          "data": {
            "text/plain": [
              "       Thomas  Jefferson  began  building  Monticello  at  the  age  of  26.\n",
              "sent0       1          1      1         1           1   1    1    1   1    1\n",
              "sent1       0          0      0         0           0   0    0    0   0    0\n",
              "sent2       0          0      0         0           0   0    1    0   0    0\n",
              "sent3       0          0      0         0           1   0    0    0   0    0"
            ],
            "text/html": [
              "\n",
              "  <div id=\"df-62dedef1-0472-40ff-ac02-df2657a3c5d0\" class=\"colab-df-container\">\n",
              "    <div>\n",
              "<style scoped>\n",
              "    .dataframe tbody tr th:only-of-type {\n",
              "        vertical-align: middle;\n",
              "    }\n",
              "\n",
              "    .dataframe tbody tr th {\n",
              "        vertical-align: top;\n",
              "    }\n",
              "\n",
              "    .dataframe thead th {\n",
              "        text-align: right;\n",
              "    }\n",
              "</style>\n",
              "<table border=\"1\" class=\"dataframe\">\n",
              "  <thead>\n",
              "    <tr style=\"text-align: right;\">\n",
              "      <th></th>\n",
              "      <th>Thomas</th>\n",
              "      <th>Jefferson</th>\n",
              "      <th>began</th>\n",
              "      <th>building</th>\n",
              "      <th>Monticello</th>\n",
              "      <th>at</th>\n",
              "      <th>the</th>\n",
              "      <th>age</th>\n",
              "      <th>of</th>\n",
              "      <th>26.</th>\n",
              "    </tr>\n",
              "  </thead>\n",
              "  <tbody>\n",
              "    <tr>\n",
              "      <th>sent0</th>\n",
              "      <td>1</td>\n",
              "      <td>1</td>\n",
              "      <td>1</td>\n",
              "      <td>1</td>\n",
              "      <td>1</td>\n",
              "      <td>1</td>\n",
              "      <td>1</td>\n",
              "      <td>1</td>\n",
              "      <td>1</td>\n",
              "      <td>1</td>\n",
              "    </tr>\n",
              "    <tr>\n",
              "      <th>sent1</th>\n",
              "      <td>0</td>\n",
              "      <td>0</td>\n",
              "      <td>0</td>\n",
              "      <td>0</td>\n",
              "      <td>0</td>\n",
              "      <td>0</td>\n",
              "      <td>0</td>\n",
              "      <td>0</td>\n",
              "      <td>0</td>\n",
              "      <td>0</td>\n",
              "    </tr>\n",
              "    <tr>\n",
              "      <th>sent2</th>\n",
              "      <td>0</td>\n",
              "      <td>0</td>\n",
              "      <td>0</td>\n",
              "      <td>0</td>\n",
              "      <td>0</td>\n",
              "      <td>0</td>\n",
              "      <td>1</td>\n",
              "      <td>0</td>\n",
              "      <td>0</td>\n",
              "      <td>0</td>\n",
              "    </tr>\n",
              "    <tr>\n",
              "      <th>sent3</th>\n",
              "      <td>0</td>\n",
              "      <td>0</td>\n",
              "      <td>0</td>\n",
              "      <td>0</td>\n",
              "      <td>1</td>\n",
              "      <td>0</td>\n",
              "      <td>0</td>\n",
              "      <td>0</td>\n",
              "      <td>0</td>\n",
              "      <td>0</td>\n",
              "    </tr>\n",
              "  </tbody>\n",
              "</table>\n",
              "</div>\n",
              "    <div class=\"colab-df-buttons\">\n",
              "\n",
              "  <div class=\"colab-df-container\">\n",
              "    <button class=\"colab-df-convert\" onclick=\"convertToInteractive('df-62dedef1-0472-40ff-ac02-df2657a3c5d0')\"\n",
              "            title=\"Convert this dataframe to an interactive table.\"\n",
              "            style=\"display:none;\">\n",
              "\n",
              "  <svg xmlns=\"http://www.w3.org/2000/svg\" height=\"24px\" viewBox=\"0 -960 960 960\">\n",
              "    <path d=\"M120-120v-720h720v720H120Zm60-500h600v-160H180v160Zm220 220h160v-160H400v160Zm0 220h160v-160H400v160ZM180-400h160v-160H180v160Zm440 0h160v-160H620v160ZM180-180h160v-160H180v160Zm440 0h160v-160H620v160Z\"/>\n",
              "  </svg>\n",
              "    </button>\n",
              "\n",
              "  <style>\n",
              "    .colab-df-container {\n",
              "      display:flex;\n",
              "      gap: 12px;\n",
              "    }\n",
              "\n",
              "    .colab-df-convert {\n",
              "      background-color: #E8F0FE;\n",
              "      border: none;\n",
              "      border-radius: 50%;\n",
              "      cursor: pointer;\n",
              "      display: none;\n",
              "      fill: #1967D2;\n",
              "      height: 32px;\n",
              "      padding: 0 0 0 0;\n",
              "      width: 32px;\n",
              "    }\n",
              "\n",
              "    .colab-df-convert:hover {\n",
              "      background-color: #E2EBFA;\n",
              "      box-shadow: 0px 1px 2px rgba(60, 64, 67, 0.3), 0px 1px 3px 1px rgba(60, 64, 67, 0.15);\n",
              "      fill: #174EA6;\n",
              "    }\n",
              "\n",
              "    .colab-df-buttons div {\n",
              "      margin-bottom: 4px;\n",
              "    }\n",
              "\n",
              "    [theme=dark] .colab-df-convert {\n",
              "      background-color: #3B4455;\n",
              "      fill: #D2E3FC;\n",
              "    }\n",
              "\n",
              "    [theme=dark] .colab-df-convert:hover {\n",
              "      background-color: #434B5C;\n",
              "      box-shadow: 0px 1px 3px 1px rgba(0, 0, 0, 0.15);\n",
              "      filter: drop-shadow(0px 1px 2px rgba(0, 0, 0, 0.3));\n",
              "      fill: #FFFFFF;\n",
              "    }\n",
              "  </style>\n",
              "\n",
              "    <script>\n",
              "      const buttonEl =\n",
              "        document.querySelector('#df-62dedef1-0472-40ff-ac02-df2657a3c5d0 button.colab-df-convert');\n",
              "      buttonEl.style.display =\n",
              "        google.colab.kernel.accessAllowed ? 'block' : 'none';\n",
              "\n",
              "      async function convertToInteractive(key) {\n",
              "        const element = document.querySelector('#df-62dedef1-0472-40ff-ac02-df2657a3c5d0');\n",
              "        const dataTable =\n",
              "          await google.colab.kernel.invokeFunction('convertToInteractive',\n",
              "                                                    [key], {});\n",
              "        if (!dataTable) return;\n",
              "\n",
              "        const docLinkHtml = 'Like what you see? Visit the ' +\n",
              "          '<a target=\"_blank\" href=https://colab.research.google.com/notebooks/data_table.ipynb>data table notebook</a>'\n",
              "          + ' to learn more about interactive tables.';\n",
              "        element.innerHTML = '';\n",
              "        dataTable['output_type'] = 'display_data';\n",
              "        await google.colab.output.renderOutput(dataTable, element);\n",
              "        const docLink = document.createElement('div');\n",
              "        docLink.innerHTML = docLinkHtml;\n",
              "        element.appendChild(docLink);\n",
              "      }\n",
              "    </script>\n",
              "  </div>\n",
              "\n",
              "\n",
              "<div id=\"df-2d7d1c6d-8c03-4f94-a24b-1fdb732cbb51\">\n",
              "  <button class=\"colab-df-quickchart\" onclick=\"quickchart('df-2d7d1c6d-8c03-4f94-a24b-1fdb732cbb51')\"\n",
              "            title=\"Suggest charts.\"\n",
              "            style=\"display:none;\">\n",
              "\n",
              "<svg xmlns=\"http://www.w3.org/2000/svg\" height=\"24px\"viewBox=\"0 0 24 24\"\n",
              "     width=\"24px\">\n",
              "    <g>\n",
              "        <path d=\"M19 3H5c-1.1 0-2 .9-2 2v14c0 1.1.9 2 2 2h14c1.1 0 2-.9 2-2V5c0-1.1-.9-2-2-2zM9 17H7v-7h2v7zm4 0h-2V7h2v10zm4 0h-2v-4h2v4z\"/>\n",
              "    </g>\n",
              "</svg>\n",
              "  </button>\n",
              "\n",
              "<style>\n",
              "  .colab-df-quickchart {\n",
              "      --bg-color: #E8F0FE;\n",
              "      --fill-color: #1967D2;\n",
              "      --hover-bg-color: #E2EBFA;\n",
              "      --hover-fill-color: #174EA6;\n",
              "      --disabled-fill-color: #AAA;\n",
              "      --disabled-bg-color: #DDD;\n",
              "  }\n",
              "\n",
              "  [theme=dark] .colab-df-quickchart {\n",
              "      --bg-color: #3B4455;\n",
              "      --fill-color: #D2E3FC;\n",
              "      --hover-bg-color: #434B5C;\n",
              "      --hover-fill-color: #FFFFFF;\n",
              "      --disabled-bg-color: #3B4455;\n",
              "      --disabled-fill-color: #666;\n",
              "  }\n",
              "\n",
              "  .colab-df-quickchart {\n",
              "    background-color: var(--bg-color);\n",
              "    border: none;\n",
              "    border-radius: 50%;\n",
              "    cursor: pointer;\n",
              "    display: none;\n",
              "    fill: var(--fill-color);\n",
              "    height: 32px;\n",
              "    padding: 0;\n",
              "    width: 32px;\n",
              "  }\n",
              "\n",
              "  .colab-df-quickchart:hover {\n",
              "    background-color: var(--hover-bg-color);\n",
              "    box-shadow: 0 1px 2px rgba(60, 64, 67, 0.3), 0 1px 3px 1px rgba(60, 64, 67, 0.15);\n",
              "    fill: var(--button-hover-fill-color);\n",
              "  }\n",
              "\n",
              "  .colab-df-quickchart-complete:disabled,\n",
              "  .colab-df-quickchart-complete:disabled:hover {\n",
              "    background-color: var(--disabled-bg-color);\n",
              "    fill: var(--disabled-fill-color);\n",
              "    box-shadow: none;\n",
              "  }\n",
              "\n",
              "  .colab-df-spinner {\n",
              "    border: 2px solid var(--fill-color);\n",
              "    border-color: transparent;\n",
              "    border-bottom-color: var(--fill-color);\n",
              "    animation:\n",
              "      spin 1s steps(1) infinite;\n",
              "  }\n",
              "\n",
              "  @keyframes spin {\n",
              "    0% {\n",
              "      border-color: transparent;\n",
              "      border-bottom-color: var(--fill-color);\n",
              "      border-left-color: var(--fill-color);\n",
              "    }\n",
              "    20% {\n",
              "      border-color: transparent;\n",
              "      border-left-color: var(--fill-color);\n",
              "      border-top-color: var(--fill-color);\n",
              "    }\n",
              "    30% {\n",
              "      border-color: transparent;\n",
              "      border-left-color: var(--fill-color);\n",
              "      border-top-color: var(--fill-color);\n",
              "      border-right-color: var(--fill-color);\n",
              "    }\n",
              "    40% {\n",
              "      border-color: transparent;\n",
              "      border-right-color: var(--fill-color);\n",
              "      border-top-color: var(--fill-color);\n",
              "    }\n",
              "    60% {\n",
              "      border-color: transparent;\n",
              "      border-right-color: var(--fill-color);\n",
              "    }\n",
              "    80% {\n",
              "      border-color: transparent;\n",
              "      border-right-color: var(--fill-color);\n",
              "      border-bottom-color: var(--fill-color);\n",
              "    }\n",
              "    90% {\n",
              "      border-color: transparent;\n",
              "      border-bottom-color: var(--fill-color);\n",
              "    }\n",
              "  }\n",
              "</style>\n",
              "\n",
              "  <script>\n",
              "    async function quickchart(key) {\n",
              "      const quickchartButtonEl =\n",
              "        document.querySelector('#' + key + ' button');\n",
              "      quickchartButtonEl.disabled = true;  // To prevent multiple clicks.\n",
              "      quickchartButtonEl.classList.add('colab-df-spinner');\n",
              "      try {\n",
              "        const charts = await google.colab.kernel.invokeFunction(\n",
              "            'suggestCharts', [key], {});\n",
              "      } catch (error) {\n",
              "        console.error('Error during call to suggestCharts:', error);\n",
              "      }\n",
              "      quickchartButtonEl.classList.remove('colab-df-spinner');\n",
              "      quickchartButtonEl.classList.add('colab-df-quickchart-complete');\n",
              "    }\n",
              "    (() => {\n",
              "      let quickchartButtonEl =\n",
              "        document.querySelector('#df-2d7d1c6d-8c03-4f94-a24b-1fdb732cbb51 button');\n",
              "      quickchartButtonEl.style.display =\n",
              "        google.colab.kernel.accessAllowed ? 'block' : 'none';\n",
              "    })();\n",
              "  </script>\n",
              "</div>\n",
              "    </div>\n",
              "  </div>\n"
            ]
          },
          "metadata": {},
          "execution_count": 13
        }
      ]
    },
    {
      "cell_type": "markdown",
      "metadata": {
        "id": "o1Njt7iaN36g"
      },
      "source": [
        "With a quick scan, you can see little overlap in word usage for these sentences. Among the first seven words in your vocabulary, only the word “Monticello” appears in more than one sentence.\n",
        "\n",
        "Now you need to be able to compute this overlap within your pipeline whenever you want to compare documents or search for similar documents.\n",
        "\n",
        "One way to check for the similarities between sentences is to count the number of overlapping tokens using a dot product."
      ]
    },
    {
      "cell_type": "markdown",
      "metadata": {
        "id": "2r69c9aJZcNO"
      },
      "source": [
        "## **n-grams**\n",
        "\n",
        "An **n-gram** is a sequence containing up to n elements that have been extracted from a sequence of those elements, usually a string.\n",
        "> *The “elements” of an n-gram can be characters, syllables, words, or even symbols like “A,” “T,” “G,” and “C” used to represent a DNA sequence*\n",
        "\n",
        "**Why bother with n-grams?**\n",
        "\n",
        "> *n-grams retain a context of a word when we tie it to its neighbor(s) in the NLP pipeline*\n",
        "\n",
        "When a sequence of tokens is vectorized into a bag-of-words vector, it loses a lot of the meaning inherent in the order of those words. By extending the concept of a token to include multiword tokens, n-grams, the NLP pipeline can retain much of the meaning inherent in the order of words in the statement.\n",
        "\n",
        "For example, the meaning-inverting word “not” will remain attached to its neighboring words, where it belongs. Without n-gram tokenization, it would be free floating. Its meaning would be associated with the entire sentence or document rather than its neighboring words. The 2-gram “was not” retains much more of the meaning of the individual words “not” and “was” than those 1-grams alone in a bag-of-words vector."
      ]
    },
    {
      "cell_type": "code",
      "metadata": {
        "colab": {
          "base_uri": "https://localhost:8080/"
        },
        "id": "4uA4cbkQ0hmC",
        "outputId": "09a86e49-cc05-45dc-fbdb-ef9e51c33481"
      },
      "source": [
        "# tokenize_2grams(\"Thomas Jefferson began building Monticello at the age of 26.\")\n",
        "import re\n",
        "\n",
        "\n",
        "sentence = \"\"\"Thomas Jefferson began building Monticello at the age of 26.\"\"\"\n",
        "pattern = re.compile(r\"([-\\s.,;!?])+\")\n",
        "tokens = pattern.split(sentence)\n",
        "tokens = [x for x in tokens if x and x not in '- \\t\\n.,;!?']\n",
        "tokens"
      ],
      "execution_count": null,
      "outputs": [
        {
          "output_type": "execute_result",
          "data": {
            "text/plain": [
              "['Thomas',\n",
              " 'Jefferson',\n",
              " 'began',\n",
              " 'building',\n",
              " 'Monticello',\n",
              " 'at',\n",
              " 'the',\n",
              " 'age',\n",
              " 'of',\n",
              " '26']"
            ]
          },
          "metadata": {},
          "execution_count": 3
        }
      ]
    },
    {
      "cell_type": "code",
      "metadata": {
        "colab": {
          "base_uri": "https://localhost:8080/"
        },
        "id": "RnnhAKPl0iyH",
        "outputId": "4935e517-9c19-4a2a-b64a-f621f0b8187c"
      },
      "source": [
        "from nltk.util import ngrams\n",
        "list(ngrams(tokens, 2))"
      ],
      "execution_count": null,
      "outputs": [
        {
          "output_type": "execute_result",
          "data": {
            "text/plain": [
              "[('Thomas', 'Jefferson'),\n",
              " ('Jefferson', 'began'),\n",
              " ('began', 'building'),\n",
              " ('building', 'Monticello'),\n",
              " ('Monticello', 'at'),\n",
              " ('at', 'the'),\n",
              " ('the', 'age'),\n",
              " ('age', 'of'),\n",
              " ('of', '26')]"
            ]
          },
          "metadata": {},
          "execution_count": 4
        }
      ]
    },
    {
      "cell_type": "code",
      "source": [
        "\n",
        "list(ngrams(tokens, 3))"
      ],
      "metadata": {
        "colab": {
          "base_uri": "https://localhost:8080/"
        },
        "id": "tdVeEt-kIM6p",
        "outputId": "1b3011b9-695e-4d2c-a8c9-5767d3591900"
      },
      "execution_count": null,
      "outputs": [
        {
          "output_type": "execute_result",
          "data": {
            "text/plain": [
              "[('Thomas', 'Jefferson', 'began'),\n",
              " ('Jefferson', 'began', 'building'),\n",
              " ('began', 'building', 'Monticello'),\n",
              " ('building', 'Monticello', 'at'),\n",
              " ('Monticello', 'at', 'the'),\n",
              " ('at', 'the', 'age'),\n",
              " ('the', 'age', 'of'),\n",
              " ('age', 'of', '26')]"
            ]
          },
          "metadata": {},
          "execution_count": 5
        }
      ]
    },
    {
      "cell_type": "code",
      "metadata": {
        "colab": {
          "base_uri": "https://localhost:8080/"
        },
        "id": "xo2F56QG1Ryg",
        "outputId": "cb6ccdd2-2920-4c5f-f4b0-8763ada8dfd2"
      },
      "source": [
        "list(ngrams(tokens, 4))"
      ],
      "execution_count": null,
      "outputs": [
        {
          "output_type": "execute_result",
          "data": {
            "text/plain": [
              "[('Thomas', 'Jefferson', 'began', 'building'),\n",
              " ('Jefferson', 'began', 'building', 'Monticello'),\n",
              " ('began', 'building', 'Monticello', 'at'),\n",
              " ('building', 'Monticello', 'at', 'the'),\n",
              " ('Monticello', 'at', 'the', 'age'),\n",
              " ('at', 'the', 'age', 'of'),\n",
              " ('the', 'age', 'of', '26')]"
            ]
          },
          "metadata": {},
          "execution_count": 6
        }
      ]
    },
    {
      "cell_type": "markdown",
      "source": [
        "# **Bag of N-Grams**\n",
        "\n",
        "One hot encoding, BoW and TF-IDF treat words as independent units.\n",
        "\n",
        "There is no notion of phrases or word ordering. Bag of Ngrams (BoN) approach tries to remedy this.\n",
        "\n",
        "It does so by breaking text into chunks of n countigous words/tokens. This can help us capture some context, which earlier approaches could not do.\n",
        "\n",
        "Let us see how it works using the same toy corpus we used in earlier examples."
      ],
      "metadata": {
        "id": "HsUADKS3O0D1"
      }
    },
    {
      "cell_type": "markdown",
      "source": [
        "**`CountVectorizer`**, which we used for BoW, can be used for getting a Bag of N-grams representation as well, using its ngram_range argument.\n",
        "\n",
        "The code snippet below shows how:"
      ],
      "metadata": {
        "id": "BV8mmIVDPKjH"
      }
    },
    {
      "cell_type": "code",
      "source": [
        "from sklearn.feature_extraction.text import CountVectorizer\n",
        "\n",
        "documents = [\"Dog bites man.\", \"Man bites dog.\", \"Dog eats meat.\", \"Man eats food.\"]\n",
        "processed_docs = [doc.lower().replace(\".\",\"\") for doc in documents]\n",
        "\n",
        "#Ngram vectorization example with count vectorizer and uni, bi, trigrams\n",
        "count_vect = CountVectorizer(ngram_range=(1,3))\n",
        "\n",
        "#Build a BOW representation for the corpus\n",
        "bow_rep = count_vect.fit_transform(processed_docs)\n",
        "\n",
        "#Look at the vocabulary mapping\n",
        "print(\"Our vocabulary: \", count_vect.vocabulary_)\n",
        "\n",
        "#see the BOW rep for first 2 documents\n",
        "print(\"BoW representation for 'dog bites man': \", bow_rep[0].toarray())\n",
        "print(\"BoW representation for 'man bites dog: \",bow_rep[1].toarray())\n",
        "# print(\"BoW representation for 'Dog and men both eat meat\",bow_rep[4].toarray())\n",
        "\n",
        "#Get the representation using this vocabulary, for a new text\n",
        "temp = count_vect.transform([\"dog and dog are friends\"])\n",
        "\n",
        "print(\"Bow representation for 'dog and dog are friends':\", temp.toarray())"
      ],
      "metadata": {
        "colab": {
          "base_uri": "https://localhost:8080/"
        },
        "id": "GuTGJZNXPaIl",
        "outputId": "a3a6dbe1-30ee-422b-fcab-bfa0ff5c3c00"
      },
      "execution_count": null,
      "outputs": [
        {
          "output_type": "stream",
          "name": "stdout",
          "text": [
            "Our vocabulary:  {'dog': 3, 'bites': 0, 'man': 12, 'dog bites': 4, 'bites man': 2, 'dog bites man': 5, 'man bites': 13, 'bites dog': 1, 'man bites dog': 14, 'eats': 8, 'meat': 17, 'dog eats': 6, 'eats meat': 10, 'dog eats meat': 7, 'food': 11, 'man eats': 15, 'eats food': 9, 'man eats food': 16}\n",
            "BoW representation for 'dog bites man':  [[1 0 1 1 1 1 0 0 0 0 0 0 1 0 0 0 0 0]]\n",
            "BoW representation for 'man bites dog:  [[1 1 0 1 0 0 0 0 0 0 0 0 1 1 1 0 0 0]]\n",
            "Bow representation for 'dog and dog are friends': [[0 0 0 2 0 0 0 0 0 0 0 0 0 0 0 0 0 0]]\n"
          ]
        }
      ]
    },
    {
      "cell_type": "markdown",
      "source": [
        "Note that the number of features (and hence the size of the feature vector) increased a lot for the same data, compared to the ther single word based representations!!"
      ],
      "metadata": {
        "id": "rtUbh2ZkPh2F"
      }
    },
    {
      "cell_type": "markdown",
      "source": [
        "## **Word Counts with CountVectorizer**\n",
        "\n",
        "The `CountVectorizer` provides a simple way to both tokenize a collection of text documents and build a vocabulary of known words\n",
        "\n",
        "It also encodes new documents using that vocabulary.\n",
        "\n",
        "It can be used as follows:\n",
        "* Create an instance of the `CountVectorizer` class.\n",
        "* Call the `fit()` function in order to learn a vocabulary from one or more documents.\n",
        "* Call the `transform()` function on one or more documents as needed to encode each as a vector.\n",
        "\n",
        "* An <font color=\"blue\">encoded vector</font> is returned with a <font color=\"blue\">length of the entire vocabulary</font> and <font color=\"blue\">an integer count</font> for the number of times each word appeared in the document.\n",
        "\n",
        "> * However these vectors are sparse vectors. Python provides an efficient way of handling sparse vectors in the `scipy.sparse` package.\n",
        "> * The vectors returned from a call to `transform()` will be sparse vectors, and you can transform them back to `NumPy` arrays to look and better understand what is going on by calling the `toarray()` function.\n",
        "\n"
      ],
      "metadata": {
        "id": "PiTcZZnWlIDV"
      }
    },
    {
      "cell_type": "code",
      "execution_count": null,
      "metadata": {
        "colab": {
          "base_uri": "https://localhost:8080/",
          "height": 86
        },
        "id": "I2fOrZWdj-_A",
        "outputId": "0b20b252-866e-4be6-9fbf-5a38e1c5c23c"
      },
      "outputs": [
        {
          "output_type": "display_data",
          "data": {
            "text/plain": [
              "<IPython.core.display.HTML object>"
            ],
            "text/html": [
              "\n",
              "  <style>\n",
              "    pre {\n",
              "        white-space: pre-wrap;\n",
              "    }\n",
              "  </style>\n",
              "  "
            ]
          },
          "metadata": {}
        },
        {
          "output_type": "stream",
          "name": "stdout",
          "text": [
            "{'the': 7, 'quick': 6, 'brown': 0, 'fox': 2, 'jumped': 3, 'over': 5, 'lazy': 4, 'dog': 1}\n",
            "Vector shape:  (1, 8)\n",
            "Vector type:  <class 'scipy.sparse._csr.csr_matrix'>\n",
            "[[1 1 1 1 1 1 1 2]]\n"
          ]
        }
      ],
      "source": [
        "from sklearn.feature_extraction.text import CountVectorizer\n",
        "\n",
        "# list of text documents\n",
        "text = [\"The quick brown fox jumped over the lazy dog.\"]\n",
        "\n",
        "# create the transform\n",
        "vectorizer = CountVectorizer()\n",
        "\n",
        "# tokenize and build vocab\n",
        "vectorizer.fit(text)\n",
        "\n",
        "# summarize\n",
        "print(vectorizer.vocabulary_)\n",
        "\n",
        "# encode document\n",
        "vector = vectorizer.transform(text)\n",
        "\n",
        "# summarize encoded vector\n",
        "print(\"Vector shape: \", vector.shape)\n",
        "print(\"Vector type: \", type(vector))\n",
        "print(vector.toarray())"
      ]
    },
    {
      "cell_type": "markdown",
      "source": [
        "* We can access the vocabulary to see what exactly was tokenized by calling:\n",
        "\n",
        ">> `print(vectorizer.vocabulary_)`\n",
        "\n",
        "* Running the example first prints the vocabulary, then the shape of the encoded document.\n",
        "\n",
        "* We can see that there are 8 words in the vocab, and therefore encoded vectors have a length of 8.\n",
        "\n",
        "* We can then see that the encoded vector is a sparse matrix.\n",
        "\n",
        "* Finally, we can see an array version of the encoded vector showing a count of 1 occurrence for each word except the (index and id 7) that has an occurrence of 2."
      ],
      "metadata": {
        "id": "vFufiFryh10d"
      }
    },
    {
      "cell_type": "markdown",
      "source": [
        "We can see that all words were made lowercase by default and that the punctuation was ignored.\n",
        "\n",
        "These and other aspects of tokenizing can be configured through other options in the API documentation.\n",
        "\n"
      ],
      "metadata": {
        "id": "wO-X4zMGmTKc"
      }
    },
    {
      "cell_type": "markdown",
      "source": [
        "Importantly, the same vectorizer can be used on documents that contain words not included in the vocabulary.\n",
        "\n",
        "These words are ignored and no count is given in the resulting vector.\n",
        "\n",
        "For example, below is an example of using the vectorizer above to encode a document with one word in the vocab and one word that is not."
      ],
      "metadata": {
        "id": "fizIuTT6mmk4"
      }
    },
    {
      "cell_type": "code",
      "source": [
        "# encode another document\n",
        "text2 = [\"the puppy\"]\n",
        "vector = vectorizer.transform(text2)\n",
        "print(vector.toarray())"
      ],
      "metadata": {
        "colab": {
          "base_uri": "https://localhost:8080/",
          "height": 34
        },
        "id": "EfsLTKRNmmaj",
        "outputId": "1ab70699-64c7-4067-f1ed-a3e8927d7ad4"
      },
      "execution_count": null,
      "outputs": [
        {
          "output_type": "display_data",
          "data": {
            "text/plain": [
              "<IPython.core.display.HTML object>"
            ],
            "text/html": [
              "\n",
              "  <style>\n",
              "    pre {\n",
              "        white-space: pre-wrap;\n",
              "    }\n",
              "  </style>\n",
              "  "
            ]
          },
          "metadata": {}
        },
        {
          "output_type": "stream",
          "name": "stdout",
          "text": [
            "[[0 0 0 0 0 0 0 1]]\n"
          ]
        }
      ]
    },
    {
      "cell_type": "markdown",
      "source": [
        "Running this example prints the array version of the encoded sparse vector showing one occurrence of the one word in the vocab and the other word not in the vocab completely ignored.\n",
        "\n",
        "> `[[0 0 0 0 0 0 0 1]]`\n",
        "\n",
        "The encoded vectors can then be used directly with a machine learning algorithm."
      ],
      "metadata": {
        "id": "NWwk9E-tmmP7"
      }
    },
    {
      "cell_type": "markdown",
      "source": [
        "## **Word Frequencies with TfidfVectorizer**\n",
        "\n",
        "One hot vector Word counts are very basic.\n",
        "\n",
        "One issue with simple counts is that some words like `the` will appear many times and their large counts will not be very meaningful in the encoded vectors.\n",
        "\n",
        "* An alternative is to calculate word frequencies, and the most popular method is called **<font color='blue'>`TF-IDF: Term Frequency - Inverse\n",
        "Document Frequency`</font>** which are the components of the resulting scores assigned to each word.\n",
        "\n",
        "* **Term Frequency**: This summarizes how often a given word appears within a document.\n",
        "* **Inverse Document Frequency**: This downscales words that appear a lot across documents."
      ],
      "metadata": {
        "id": "9U6PkGZrmlx0"
      }
    },
    {
      "cell_type": "markdown",
      "source": [
        "**TF-IDF** are word frequency scores that try to highlight words that are more interesting, e.g. frequent in a document but not across documents.\n",
        "\n",
        "for a given term, $t$, in a given document, $d$, in a corpus, $D$, you get:\n",
        "$$\n",
        "  \\text{tf}(t, d) = \\frac{count(t)}{count(d)}\n",
        "$$\n",
        "\n",
        "$$\n",
        "  \\text{idf}(t, D) = \\log \\left[\\frac{\\text{number of documents}}{\\text{number of documents containing t}}\\right]\n",
        "$$\n",
        "\n",
        "$$\n",
        "  \\text{tf-idf}(t, d, D) = \\text{tf}(t, d) * \\text{idf}(t, D)\n",
        "$$"
      ],
      "metadata": {
        "id": "CHY20FLJcjv0"
      }
    },
    {
      "cell_type": "markdown",
      "source": [
        "The more times a word appears in the document, the TF (and hence the TF-IDF) will go up.\n",
        "\n",
        "At the same time, as the number of documents that contain that word goes\n",
        "up, the IDF (and hence the TF-IDF) for that word will go down."
      ],
      "metadata": {
        "id": "KToGn1m4dGsy"
      }
    },
    {
      "cell_type": "markdown",
      "source": [
        "The `TfidfVectorizer` will tokenize documents, learn the vocabulary and inverse document frequency weightings, and allow you to encode new documents.\n",
        "\n",
        "Alternately, if you already have a learned `CountVectorizer`, you can use it with a `TfidfTransformer` to just calculate the inverse document frequencies and start encoding documents.\n",
        "\n",
        "The same `create`, `fit`, and `transform` process is used as with the `CountVectorizer`.\n",
        "\n",
        "Below is an example of using the `TfidfVectorizer` to learn vocabulary and inverse document frequencies across 3 small documents and then encode one of those documents."
      ],
      "metadata": {
        "id": "O38siPKac1al"
      }
    },
    {
      "cell_type": "code",
      "source": [
        "from sklearn.feature_extraction.text import TfidfVectorizer\n",
        "\n",
        "# list of text documents\n",
        "text = [\"The quick brown fox jumped over the lazy dog.\",\n",
        "\t\t\"The dog.\",\n",
        "\t\t\"The fox\"]\n",
        "\n",
        "# create the transform\n",
        "vectorizer = TfidfVectorizer()\n",
        "\n",
        "# tokenize and build vocab\n",
        "vectorizer.fit(text)\n",
        "\n",
        "# # summarize the attributes of vectorizer\n",
        "print(vectorizer.get_feature_names_out())\n",
        "print(vectorizer.vocabulary_)\n",
        "print(vectorizer.idf_)\n",
        "\n",
        "# # encode document\n",
        "vector = vectorizer.transform([text[0]])\n",
        "\n",
        "# # summarize encoded vector\n",
        "print(\"Shape: \", vector.shape)\n",
        "print(\"Array: \", vector.toarray())"
      ],
      "metadata": {
        "colab": {
          "base_uri": "https://localhost:8080/"
        },
        "id": "aPMfBgdhk8bs",
        "outputId": "ab91f571-d887-409b-a0a0-ecec5afe6eb8"
      },
      "execution_count": null,
      "outputs": [
        {
          "output_type": "stream",
          "name": "stdout",
          "text": [
            "['brown' 'dog' 'fox' 'jumped' 'lazy' 'over' 'quick' 'the']\n",
            "{'the': 7, 'quick': 6, 'brown': 0, 'fox': 2, 'jumped': 3, 'over': 5, 'lazy': 4, 'dog': 1}\n",
            "[1.69314718 1.28768207 1.28768207 1.69314718 1.69314718 1.69314718\n",
            " 1.69314718 1.        ]\n",
            "Shape:  (1, 8)\n",
            "Array:  [[0.36388646 0.27674503 0.27674503 0.36388646 0.36388646 0.36388646\n",
            "  0.36388646 0.42983441]]\n"
          ]
        }
      ]
    },
    {
      "cell_type": "markdown",
      "source": [
        "The way scikit-learn calculates TF-IDF values is different from that defined in literature.\n",
        "\n",
        "For more information about how scikit-learn calculates TF-IDF, please see the [documentation](https://scikit-learn.org/stable/modules/feature_extraction.html#tfidf-term-weighting)"
      ],
      "metadata": {
        "id": "G7wBzmVmTH6H"
      }
    },
    {
      "cell_type": "markdown",
      "source": [
        "* A vocabulary of 8 words is learned from the documents and each word is assigned a unique integer index in the output vector.\n",
        "\n",
        "* The inverse document frequencies are calculated for each word in the vocabulary, assigning the lowest score of 1.0 to the most frequently observed word: the at index 7.\n",
        "\n",
        "* Finally, the first document is encoded as an 8-element sparse array and we can review the final scorings of each word with different values for the, fox, and dog from the other words in the vocabulary."
      ],
      "metadata": {
        "id": "7VE5ifFjnBMp"
      }
    },
    {
      "cell_type": "markdown",
      "source": [
        "The scores are normalized to values between 0 and 1 and the encoded document vectors can\n",
        "then be used directly with most machine learning algorithms."
      ],
      "metadata": {
        "id": "uOqpNMG9nBA0"
      }
    },
    {
      "cell_type": "markdown",
      "source": [
        "## **Hashing with HashingVectorizer**\n",
        "\n",
        "Counts and frequencies can be very useful, but one limitation of these methods is that the vocabulary can become very large requiring large vectors for encoding documents and impose large requirements on memory.\n",
        "\n",
        "A clever work around is to use a one way hash of words to convert them to integers. The clever part is that no vocabulary is required and you can choose an arbitrary-long fixed length vector.\n",
        "  > A downside is that the hash is a one-way function so there is no way to convert the encoding back to a word (which may not matter for many supervised learning tasks)."
      ],
      "metadata": {
        "id": "SgpL3aCBnA9K"
      }
    },
    {
      "cell_type": "markdown",
      "source": [
        "The `HashingVectorizer` class implements this approach that can be used to consistently hash words, then tokenize and encode documents as needed.\n",
        "\n",
        "* The example below demonstrates the `HashingVectorizer` for encoding a single document.\n",
        "* An arbitrary fixed-length vector size of 20 was chosen. This corresponds to the range of the hash function, where small values (like 20) may result in hash collisions.\n",
        "\n",
        "* Note that this vectorizer does not require a call to fit on the training data documents. Instead, after instantiation, it can be used directly to start encoding documents"
      ],
      "metadata": {
        "id": "0rpz17H7mLl9"
      }
    },
    {
      "cell_type": "code",
      "source": [
        "from sklearn.feature_extraction.text import HashingVectorizer\n",
        "\n",
        "# list of text documents\n",
        "text = [\"The quick brown fox jumped over the lazy dog.\"]\n",
        "\n",
        "# create the transform\n",
        "vectorizer = HashingVectorizer(n_features=20)\n",
        "\n",
        "# encode document\n",
        "vector = vectorizer.transform(text)\n",
        "\n",
        "# summarize encoded vector\n",
        "print(vector.shape)\n",
        "print(vector.toarray())"
      ],
      "metadata": {
        "colab": {
          "base_uri": "https://localhost:8080/",
          "height": 104
        },
        "id": "veLW1hDwk-7-",
        "outputId": "edcfc814-dd10-4c3c-94ff-d16df2f2a887"
      },
      "execution_count": null,
      "outputs": [
        {
          "output_type": "display_data",
          "data": {
            "text/plain": [
              "<IPython.core.display.HTML object>"
            ],
            "text/html": [
              "\n",
              "  <style>\n",
              "    pre {\n",
              "        white-space: pre-wrap;\n",
              "    }\n",
              "  </style>\n",
              "  "
            ]
          },
          "metadata": {}
        },
        {
          "output_type": "stream",
          "name": "stdout",
          "text": [
            "(1, 20)\n",
            "[[ 0.          0.          0.          0.          0.          0.33333333\n",
            "   0.         -0.33333333  0.33333333  0.          0.          0.33333333\n",
            "   0.          0.          0.         -0.33333333  0.          0.\n",
            "  -0.66666667  0.        ]]\n"
          ]
        }
      ]
    },
    {
      "cell_type": "markdown",
      "source": [
        "Running the example encodes the sample document as a 20-element sparse array.\n",
        "\n",
        "The values of the encoded document correspond to normalized word counts by default in the range of -1 to 1, but could be made simple integer counts by changing the default configuration."
      ],
      "metadata": {
        "id": "8fIgxr5VnRWJ"
      }
    },
    {
      "cell_type": "markdown",
      "source": [
        "# **Prepare data with Keras**"
      ],
      "metadata": {
        "id": "7s1-oQvkoFY5"
      }
    },
    {
      "cell_type": "markdown",
      "source": [
        "## **Split Words with text to word sequence**\n",
        "\n",
        "Keras provides the text to word sequence() function that you can use to split text into a list of words.\n",
        "\n",
        "By default, this function automatically does 3 things:\n",
        "* Splits words by space.\n",
        "\n",
        "* Filters out punctuation.\n",
        "* Converts text to lowercase (lower=True)."
      ],
      "metadata": {
        "id": "9Z9Lpa6xoLnM"
      }
    },
    {
      "cell_type": "code",
      "source": [
        "from keras.preprocessing.text import text_to_word_sequence\n",
        "\n",
        "# define the document\n",
        "text = 'The quick brown fox jumped over the lazy dog.'\n",
        "\n",
        "# tokenize the document\n",
        "result = text_to_word_sequence(text)\n",
        "print(result)"
      ],
      "metadata": {
        "colab": {
          "base_uri": "https://localhost:8080/",
          "height": 34
        },
        "id": "qunOzkHfofW9",
        "outputId": "3b8d78ba-ac63-4fd3-88d8-8ca3087a5740"
      },
      "execution_count": null,
      "outputs": [
        {
          "output_type": "display_data",
          "data": {
            "text/plain": [
              "<IPython.core.display.HTML object>"
            ],
            "text/html": [
              "\n",
              "  <style>\n",
              "    pre {\n",
              "        white-space: pre-wrap;\n",
              "    }\n",
              "  </style>\n",
              "  "
            ]
          },
          "metadata": {}
        },
        {
          "output_type": "stream",
          "name": "stdout",
          "text": [
            "['the', 'quick', 'brown', 'fox', 'jumped', 'over', 'the', 'lazy', 'dog']\n"
          ]
        }
      ]
    },
    {
      "cell_type": "markdown",
      "source": [
        "This is a good first step, but further pre-processing is required before you can work with the text."
      ],
      "metadata": {
        "id": "-yVfY2kcoirP"
      }
    },
    {
      "cell_type": "markdown",
      "source": [
        "## **Encoding with one hot**\n",
        "\n"
      ],
      "metadata": {
        "id": "N5fXruqDofx0"
      }
    },
    {
      "cell_type": "markdown",
      "source": [
        "Keras provides the `one_hot()` function to tokenize and integer encode a text document in one step.\n",
        "\n",
        "The function is a wrapper for the `hashing_trick()` function.\n",
        "\n",
        "The function returns an integer encoded version of the document.\n",
        "\n",
        "The use of a hash function means that there may be collisions and not all words will be assigned unique integer values.\n",
        "\n",
        "As with the `text_to_word_sequence()` function in the previous section, the `one_hot()` function will make the text lower case, filter out punctuation, and split words based on white space.\n",
        "\n",
        "In addition to the text, the vocabulary size (total words) must be specified.\n",
        "\n",
        "This could be the total number of words in the document or more if you intend to encode additional documents that contains additional words.\n",
        "\n",
        "The size of the vocabulary defines the hashing space from which\n",
        "words are hashed.\n",
        "\n",
        "By default, the hash function is used, although as we will see in the next section, alternate hash functions can be specified when calling the `hashing_trick()` function directly."
      ],
      "metadata": {
        "id": "TFWdPS2ipslq"
      }
    },
    {
      "cell_type": "code",
      "source": [
        "from keras.preprocessing.text import text_to_word_sequence\n",
        "# define the document\n",
        "text = 'The quick brown fox jumped over the lazy dog.'\n",
        "# estimate the size of the vocabulary\n",
        "words = set(text_to_word_sequence(text))\n",
        "vocab_size = len(words)\n",
        "print(vocab_size)"
      ],
      "metadata": {
        "colab": {
          "base_uri": "https://localhost:8080/",
          "height": 34
        },
        "id": "32ab1kFwpWdu",
        "outputId": "f44c4259-c3a3-4b9f-df13-0c296825201f"
      },
      "execution_count": null,
      "outputs": [
        {
          "output_type": "display_data",
          "data": {
            "text/plain": [
              "<IPython.core.display.HTML object>"
            ],
            "text/html": [
              "\n",
              "  <style>\n",
              "    pre {\n",
              "        white-space: pre-wrap;\n",
              "    }\n",
              "  </style>\n",
              "  "
            ]
          },
          "metadata": {}
        },
        {
          "output_type": "stream",
          "name": "stdout",
          "text": [
            "8\n"
          ]
        }
      ]
    },
    {
      "cell_type": "markdown",
      "source": [
        "We put this together with the `one_hot()` function and encode the words in the document.\n",
        "\n",
        "The complete example is listed below.\n",
        "\n",
        "The vocabulary size is increased by one-third to minimize collisions when hashing words."
      ],
      "metadata": {
        "id": "fHAv-F-jrDuw"
      }
    },
    {
      "cell_type": "code",
      "source": [
        "from keras.preprocessing.text import one_hot\n",
        "from keras.preprocessing.text import text_to_word_sequence\n",
        "# define the document\n",
        "text = 'The quick brown fox jumped over the lazy dog.'\n",
        "# estimate the size of the vocabulary\n",
        "words = set(text_to_word_sequence(text))\n",
        "vocab_size = len(words)\n",
        "print(vocab_size)\n",
        "# integer encode the document\n",
        "result = one_hot(text, round(vocab_size*1.3))\n",
        "print(result)"
      ],
      "metadata": {
        "colab": {
          "base_uri": "https://localhost:8080/",
          "height": 52
        },
        "id": "WtT0yLHMpXK5",
        "outputId": "e80daf8a-56f3-4987-c9c7-39f04e71eada"
      },
      "execution_count": null,
      "outputs": [
        {
          "output_type": "display_data",
          "data": {
            "text/plain": [
              "<IPython.core.display.HTML object>"
            ],
            "text/html": [
              "\n",
              "  <style>\n",
              "    pre {\n",
              "        white-space: pre-wrap;\n",
              "    }\n",
              "  </style>\n",
              "  "
            ]
          },
          "metadata": {}
        },
        {
          "output_type": "stream",
          "name": "stdout",
          "text": [
            "8\n",
            "[4, 6, 8, 3, 3, 2, 4, 8, 7]\n"
          ]
        }
      ]
    },
    {
      "cell_type": "markdown",
      "source": [
        "\n",
        "**Note:** Given the stochastic nature of neural networks, your specific results may vary.\n",
        "\n",
        "Consider running the example a few times"
      ],
      "metadata": {
        "id": "BbbuSB3rsDQY"
      }
    },
    {
      "cell_type": "markdown",
      "source": [
        "## **Hash Encoding with hashing trick**\n",
        "\n",
        "Keras provides the `hashing_trick()` function that tokenizes and then integer encodes the document, just like the `one_hot()` function.\n",
        "\n",
        "It provides more flexibility, allowing you to specify the hash function as either `hash` (the default) or other hash functions such as the built in `md5` function or your own function.\n",
        "\n",
        "Below is an example of integer encoding a document using the `md5` hash function."
      ],
      "metadata": {
        "id": "7FX14JE3tKag"
      }
    },
    {
      "cell_type": "code",
      "source": [
        "from keras.preprocessing.text import hashing_trick\n",
        "from keras.preprocessing.text import text_to_word_sequence\n",
        "# define the document\n",
        "text = 'The quick brown fox jumped over the lazy dog.'\n",
        "# estimate the size of the vocabulary\n",
        "words = set(text_to_word_sequence(text))\n",
        "vocab_size = len(words)\n",
        "print(vocab_size)\n",
        "\n",
        "# integer encode the document\n",
        "result = hashing_trick(text, round(vocab_size*1.3), hash_function='md5')\n",
        "print(result)"
      ],
      "metadata": {
        "colab": {
          "base_uri": "https://localhost:8080/",
          "height": 52
        },
        "id": "p_BIGmiXpZ5S",
        "outputId": "eb191782-76ad-4735-8f9f-0a54489c42db"
      },
      "execution_count": null,
      "outputs": [
        {
          "output_type": "display_data",
          "data": {
            "text/plain": [
              "<IPython.core.display.HTML object>"
            ],
            "text/html": [
              "\n",
              "  <style>\n",
              "    pre {\n",
              "        white-space: pre-wrap;\n",
              "    }\n",
              "  </style>\n",
              "  "
            ]
          },
          "metadata": {}
        },
        {
          "output_type": "stream",
          "name": "stdout",
          "text": [
            "8\n",
            "[6, 4, 1, 2, 7, 5, 6, 2, 6]\n"
          ]
        }
      ]
    },
    {
      "cell_type": "markdown",
      "source": [
        "## **Tokenizer API**\n",
        "\n",
        "Keras provides\n",
        "the Tokenizer class for preparing text documents for deep learning. The Tokenizer must be\n",
        "constructed and then fit on either raw text documents or integer encoded text documents. For\n",
        "example:"
      ],
      "metadata": {
        "id": "J6nSdGQPsS1U"
      }
    },
    {
      "cell_type": "code",
      "source": [
        "from keras.preprocessing.text import Tokenizer\n",
        "# define 5 documents\n",
        "docs = ['Well done!',\n",
        "\t\t'Good work',\n",
        "\t\t'Great effort',\n",
        "\t\t'nice work',\n",
        "\t\t'Excellent!']\n",
        "\n",
        "# create the tokenizer\n",
        "t = Tokenizer()\n",
        "# fit the tokenizer on the documents\n",
        "t.fit_on_texts(docs)\n",
        "# summarize what was learned\n",
        "print(t.word_counts)\n",
        "print(t.document_count)\n",
        "print(t.word_index)\n",
        "print(t.word_docs)\n",
        "# integer encode documents\n",
        "encoded_docs = t.texts_to_matrix(docs, mode='count')\n",
        "print(encoded_docs)"
      ],
      "metadata": {
        "colab": {
          "base_uri": "https://localhost:8080/",
          "height": 225
        },
        "id": "DzDcruNXpc7Y",
        "outputId": "c94ec84b-9a27-49de-9602-2322cf1446a4"
      },
      "execution_count": null,
      "outputs": [
        {
          "output_type": "display_data",
          "data": {
            "text/plain": [
              "<IPython.core.display.HTML object>"
            ],
            "text/html": [
              "\n",
              "  <style>\n",
              "    pre {\n",
              "        white-space: pre-wrap;\n",
              "    }\n",
              "  </style>\n",
              "  "
            ]
          },
          "metadata": {}
        },
        {
          "output_type": "stream",
          "name": "stdout",
          "text": [
            "OrderedDict([('well', 1), ('done', 1), ('good', 1), ('work', 2), ('great', 1), ('effort', 1), ('nice', 1), ('excellent', 1)])\n",
            "5\n",
            "{'work': 1, 'well': 2, 'done': 3, 'good': 4, 'great': 5, 'effort': 6, 'nice': 7, 'excellent': 8}\n",
            "defaultdict(<class 'int'>, {'done': 1, 'well': 1, 'good': 1, 'work': 2, 'effort': 1, 'great': 1, 'nice': 1, 'excellent': 1})\n",
            "[[0. 0. 1. 1. 0. 0. 0. 0. 0.]\n",
            " [0. 1. 0. 0. 1. 0. 0. 0. 0.]\n",
            " [0. 0. 0. 0. 0. 1. 1. 0. 0.]\n",
            " [0. 1. 0. 0. 0. 0. 0. 1. 0.]\n",
            " [0. 0. 0. 0. 0. 0. 0. 0. 1.]]\n"
          ]
        }
      ]
    },
    {
      "cell_type": "markdown",
      "source": [
        "Once fit, the Tokenizer provides 4 attributes that can be used to query what has been learned about your documents:\n",
        "* **word counts**: A dictionary mapping of words and their occurrence counts when the Tokenizer was fit.\n",
        "* **word docs**: A dictionary mapping of words and the number of documents that reach appears in.\n",
        "* **word index**: A dictionary of words and their uniquely assigned integers\n",
        "* **document count**: A dictionary mapping and the number of documents they appear in calculated during the fit.\n",
        "\n",
        "For example:"
      ],
      "metadata": {
        "id": "Go_-2dlTpfgA"
      }
    },
    {
      "cell_type": "code",
      "source": [
        "# summarize what was learned\n",
        "print(t.word_counts)\n",
        "print(t.document_count)\n",
        "print(t.word_index)\n",
        "print(t.word_docs)"
      ],
      "metadata": {
        "id": "gjwU5l-BvmQs",
        "colab": {
          "base_uri": "https://localhost:8080/",
          "height": 138
        },
        "outputId": "fcc83c20-cb2a-47d7-d375-0c0cc7ad2adf"
      },
      "execution_count": null,
      "outputs": [
        {
          "output_type": "display_data",
          "data": {
            "text/plain": [
              "<IPython.core.display.HTML object>"
            ],
            "text/html": [
              "\n",
              "  <style>\n",
              "    pre {\n",
              "        white-space: pre-wrap;\n",
              "    }\n",
              "  </style>\n",
              "  "
            ]
          },
          "metadata": {}
        },
        {
          "output_type": "stream",
          "name": "stdout",
          "text": [
            "OrderedDict([('well', 1), ('done', 1), ('good', 1), ('work', 2), ('great', 1), ('effort', 1), ('nice', 1), ('excellent', 1)])\n",
            "5\n",
            "{'work': 1, 'well': 2, 'done': 3, 'good': 4, 'great': 5, 'effort': 6, 'nice': 7, 'excellent': 8}\n",
            "defaultdict(<class 'int'>, {'done': 1, 'well': 1, 'good': 1, 'work': 2, 'effort': 1, 'great': 1, 'nice': 1, 'excellent': 1})\n"
          ]
        }
      ]
    },
    {
      "cell_type": "markdown",
      "source": [
        "Once the Tokenizer has been fit on training data, it can be used to encode documents in the train or test datasets.\n",
        "\n",
        "The `texts_to_matrix()` function on the `Tokenizer` can be used to create one vector per document provided per input.\n",
        "\n",
        "The length of the vectors is the total size of the vocabulary.\n",
        "\n",
        "This function provides a suite of standard bag-of-words model text encoding\n",
        "schemes that can be provided via a mode argument to the function. The modes available include:\n",
        "* **binary**: Whether or not each word is present in the document. This is the default.\n",
        "* **count**: The count of each word in the document.\n",
        "* **tfidf**: The Text Frequency-Inverse DocumentFrequency (TF-IDF) scoring for each word in the document.\n",
        "* **freq**: The frequency of each word as a ratio of words within each document."
      ],
      "metadata": {
        "id": "YPv2tCg8v4Hv"
      }
    },
    {
      "cell_type": "markdown",
      "source": [
        "We can put all of this together with a worked example"
      ],
      "metadata": {
        "id": "qoiT1f8Kxqvp"
      }
    },
    {
      "cell_type": "code",
      "source": [
        "from keras.preprocessing.text import Tokenizer\n",
        "\n",
        "# define 5 documents\n",
        "docs = ['Well done!',\n",
        "'Good work',\n",
        "'Great effort',\n",
        "'nice work',\n",
        "'Excellent!']\n",
        "\n",
        "# create the tokenizer\n",
        "t = Tokenizer()\n",
        "\n",
        "# fit the tokenizer on the documents\n",
        "t.fit_on_texts(docs)\n",
        "\n",
        "# summarize what was learned\n",
        "print(t.word_counts)\n",
        "print(t.document_count)\n",
        "print(t.word_index)\n",
        "print(t.word_docs)\n",
        "\n",
        "# integer encode documents\n",
        "encoded_docs = t.texts_to_matrix(docs, mode='count')\n",
        "print(encoded_docs)"
      ],
      "metadata": {
        "id": "w9IMr45zxfAm"
      },
      "execution_count": null,
      "outputs": []
    },
    {
      "cell_type": "markdown",
      "source": [
        "Running the example fits the Tokenizer with 5 small documents.\n",
        "\n",
        "* The details of the fit Tokenizer are printed.\n",
        "* Then the 5 documents are encoded using a word count.\n",
        "* Each document is encoded as a 9-element vector with one position for each word and the chosen encoding scheme value for each word position.\n",
        "* In this case, a simple word count mode is used."
      ],
      "metadata": {
        "id": "vHNMIepdxy-a"
      }
    },
    {
      "cell_type": "markdown",
      "source": [
        "# **Part-of-speech POS tagging**"
      ],
      "metadata": {
        "id": "1N60YzIBydQ7"
      }
    },
    {
      "cell_type": "markdown",
      "source": [
        "The types of words defined by the different functions the words might fulfill are called parts of speech, and we distinguish between a number of such types:\n",
        "* **Nouns—Words** that denote objects, animals, people, places, and concepts\n",
        "* **Verbs—Words** that denote states, actions, and occurrences\n",
        "* **Adjectives—Words** that denote qualities of objects, animals, people, places, and concepts\n",
        "* **Adverbs** —Those for qualities of actions, states, and occurrences"
      ],
      "metadata": {
        "id": "Q-bZpFgx_R52"
      }
    },
    {
      "cell_type": "markdown",
      "source": [
        "This is not a comprehensive account of all parts of speech in English, but it should give some idea."
      ],
      "metadata": {
        "id": "5967vd3W_9Vg"
      }
    },
    {
      "cell_type": "markdown",
      "source": [
        "![image.png](data:image/png;base64,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)"
      ],
      "metadata": {
        "id": "-PLLI9Sb_mb9"
      }
    },
    {
      "cell_type": "markdown",
      "source": [
        "![image.png](data:image/png;base64,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)"
      ],
      "metadata": {
        "id": "8lh3uI6m-kJm"
      }
    },
    {
      "cell_type": "markdown",
      "source": [
        "Mental model visualizing the flow of information between different\n",
        "NLP components"
      ],
      "metadata": {
        "id": "Mi9qSDaPAKMM"
      }
    },
    {
      "cell_type": "markdown",
      "source": [
        "![image.png](data:image/png;base64,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)"
      ],
      "metadata": {
        "id": "iLGM6D_FALp0"
      }
    },
    {
      "cell_type": "markdown",
      "source": [
        "Following section will use `spaCy`, another very useful NLP library that you can put under your belt.\n",
        "\n",
        "There are several reasons to look into spaCy:\n",
        "1. `NLTK` and `spaCy` have their complementary strengths, so it's good to know how to use both.\n",
        "2. `spaCy` is an actively supported and fast-developing library\n",
        "3. There is a large community of people working with this library, so you can find code examples for various applications implemented with or for spaCy\n",
        "4. `spaCy` is actively used in industry\n",
        "5. It includes a powerful set of tools particularly applicable to large-scale information extraction\n"
      ],
      "metadata": {
        "id": "qq-GF2J1AdFn"
      }
    },
    {
      "cell_type": "markdown",
      "source": [
        "Running nlp pipeline on some input text:"
      ],
      "metadata": {
        "id": "eeW4KyoZ-FQe"
      }
    },
    {
      "cell_type": "code",
      "source": [
        "# Start by importing spaCy\n",
        "import spacy\n",
        "\n",
        "# The spacy.load command initializes the nlp pipeline.\n",
        "nlp = spacy.load(\"en_core_web_sm\")\n",
        "\n",
        "# Provide the nlp pipeline with input text.\n",
        "doc = nlp(\"On Friday board members meet with senior managers \" +\n",
        "          \"to discuss future development of the company.\")\n",
        "\n",
        "# Print the output in a tabular format and add a header to the printout for clarity.\n",
        "rows = []\n",
        "rows.append([\"Word\", \"Position\", \"Lowercase\", \"Lemma\", \"POS\", \"Alphanumeric\", \"Stopword\"])\n",
        "for token in doc:\n",
        "    rows.append([token.text, str(token.i), token.lower_, token.lemma_,\n",
        "                 token.pos_, str(token.is_alpha), str(token.is_stop)])\n",
        "\n",
        "# Python’s zip function allows you to reformat input from row-wise\n",
        "# representation to column-wise\n",
        "columns = zip(*rows)\n",
        "\n",
        "# Calculate the maximum length of strings in each column to allow\n",
        "# enough space in the printout.\n",
        "column_widths = [max(len(item) for item in col) for col in columns]\n",
        "\n",
        "# Use the format functionality to adjust the width of each column in each row\n",
        "# while printing out the results.\n",
        "for row in rows:\n",
        "    print(''.join(' {:{width}} '.format(row[i], width=column_widths[i])\n",
        "                  for i in range(0, len(row))))"
      ],
      "metadata": {
        "id": "paf7f4H7-NfN",
        "colab": {
          "base_uri": "https://localhost:8080/",
          "height": 312
        },
        "outputId": "a8889003-cde0-466d-8696-c469182d54c6"
      },
      "execution_count": null,
      "outputs": [
        {
          "output_type": "display_data",
          "data": {
            "text/plain": [
              "<IPython.core.display.HTML object>"
            ],
            "text/html": [
              "\n",
              "  <style>\n",
              "    pre {\n",
              "        white-space: pre-wrap;\n",
              "    }\n",
              "  </style>\n",
              "  "
            ]
          },
          "metadata": {}
        },
        {
          "output_type": "stream",
          "name": "stdout",
          "text": [
            " Word         Position  Lowercase    Lemma        POS    Alphanumeric  Stopword \n",
            " On           0         on           on           ADP    True          True     \n",
            " Friday       1         friday       Friday       PROPN  True          False    \n",
            " board        2         board        board        NOUN   True          False    \n",
            " members      3         members      member       NOUN   True          False    \n",
            " meet         4         meet         meet         VERB   True          False    \n",
            " with         5         with         with         ADP    True          True     \n",
            " senior       6         senior       senior       ADJ    True          False    \n",
            " managers     7         managers     manager      NOUN   True          False    \n",
            " to           8         to           to           PART   True          True     \n",
            " discuss      9         discuss      discuss      VERB   True          False    \n",
            " future       10        future       future       ADJ    True          False    \n",
            " development  11        development  development  NOUN   True          False    \n",
            " of           12        of           of           ADP    True          True     \n",
            " the          13        the          the          DET    True          True     \n",
            " company      14        company      company      NOUN   True          False    \n",
            " .            15        .            .            PUNCT  False         False    \n"
          ]
        }
      ]
    },
    {
      "cell_type": "markdown",
      "source": [
        "This output tells us:\n",
        "\n",
        "1. The first item in each line is the original word from text.\n",
        "  * It is returned by `token.text`.\n",
        "\n",
        "2. The second is the position in text, which starts as all other indexing in Python from 0.\n",
        "  * This is identified by `token.i`.\n",
        "\n",
        "3. The third item is the lowercase version of the original word. You may notice\n",
        "that it changes the forms of `On` and `Friday`.\n",
        "  * This is returned by `token.lower_`.\n",
        "\n",
        "4. The fourth item is the lemma of the word, which returns `member` for `members` and `manager` for `managers`.\n",
        "  * Lemma is identified by `token.lemma_`.\n",
        "\n",
        "5. The fifth item is the part-of-speech tag. In `spaCy`, `prepositions` are referred to as `adposition` and use a tag `ADP`. The new tags in this piece of text are `PART`, which stands for `particle` and is assigned to particle `to` in `to discuss`, and `PUNCT` for punctuation marks.\n",
        "  * `POS` tags are returned by `token.pos_`.\n",
        "\n",
        "6. The sixth item is a `True/False` value returned by `token.is_alpha`, which\n",
        "checks whether a word contains alphabetic characters only.\n",
        "  * This attribute is `False` for punctuation marks and some other sequences that don't consist of letters only, so it is useful for identifying and filtering out punctuation marks and other nonwords.\n",
        "\n",
        "7. Finally, the last, seventh item in the output is a `True/False` value returned by `token.is_stop`, which checks whether a word is in a stopwords list."
      ],
      "metadata": {
        "id": "twzkmLVuCbTi"
      }
    }
  ]
}